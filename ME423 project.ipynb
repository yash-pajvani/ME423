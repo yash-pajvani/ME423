{
 "cells": [
  {
   "cell_type": "markdown",
   "id": "7b97ffc1",
   "metadata": {},
   "source": [
    "#                                              ME 423 Project"
   ]
  },
  {
   "cell_type": "raw",
   "id": "a0c64a40",
   "metadata": {},
   "source": [
    "NOMENCLATURE:\n",
    "ρf = Density of flywheel (Kg/m 3 )\n",
    "t = Thickness of flywheel (m)\n",
    "d = diameter of the flywheel (m)\n",
    "m = Mass of the flywheel (Kg)\n",
    "I = Moment of inertia of the flywheel (Kg.m 2 )\n",
    "Vmaxb = max allowed velocity of bicycle in m/sec\n",
    "M = max mass of bicycle pluse person pluse other payload\n",
    "u = Initial velocity of the bicycle at the starting of the discharging cycle (m/sec)\n",
    "v = Final velocity of the bicycle at the end of discharging cycle (m/sec)\n",
    "t1 = time taken for discharging cycle (from u to v)\n",
    "DR = Diameter of the bicycle wheel (m)\n",
    "RR = Radius of the bicycle wheel (m)\n",
    "a = Acceleration of the bicycle (m/sec 2 )\n",
    "E = Total energy of the system (Joules)\n",
    "Fa = Inertia force (N), force required to accelerate the bicycle a rate of “a”\n",
    "FR = Rolling resistance (N)\n",
    "Cd = Coefficient of drag\n",
    "ρa = Density of air (Kg/m 3 )\n",
    "A = Projected area of a bicycle\n",
    "FA = Aerodynamic drag (N)\n",
    "Ff = Frictional resistance (N)\n",
    "F = Total force (N)\n",
    "Tw = Torque acting at the center of the wheel (Nm)\n",
    "Efl = Energy of the flywheel (Joules)\n",
    "s = Sprocket ratio = rear/front\n",
    "μ = coefficient of friction\n",
    "ω1 = Maximum angular velocity of the flywheel (rad/sec)\n",
    "ω2 = Maximum angular velocity of the flywheel (rad/sec)\n",
    "r1 = External radius of the clutch plate (m)\n",
    "r2 = Internal radius of the clutch plate (m)\n",
    "P = Axial pressure intensity on the clutch plate (Pa)\n",
    "T = Torque (Nm)\n",
    "p = Pitch of the chain (m)\n",
    "T1 = Number of teeth on the front sprocket\n",
    "T2 = Number of teeth on the rear sprocket\n",
    "X = Center distance between front and rear sprocket (m)\n",
    "L = Length of the chain used (m)\n",
    "K = Number of chain links in the chain drive\n",
    "g = gear ratio\n",
    "Tw = Torque acting at the center of the wheel (Nm)\n",
    "TF = Torque required at the flywheel end (Nm)\n",
    "FT = Threshold force to move the bicycle (N)\n",
    "FC = Force required by the clutch drive (N)\n",
    "FS = spring force (N)\n",
    "TTW = Threshold torque required at the wheel end (Nm)\n",
    "TTF = Threshold torque required at the flywheel end (Nm)\n",
    "FTC = Threshold force required by the clutch drive (N)\n",
    "FTS = Threshold spring force (N)"
   ]
  },
  {
   "cell_type": "markdown",
   "id": "0560b87b",
   "metadata": {},
   "source": [
    "## FlyWheel"
   ]
  },
  {
   "cell_type": "code",
   "execution_count": 94,
   "id": "d784359c",
   "metadata": {},
   "outputs": [],
   "source": [
    "import math\n",
    "\n",
    "# this are some specifications and assumptions\n",
    "\n",
    "ρf = 2700.0\n",
    "t = 0.05\n",
    "d = 0.25"
   ]
  },
  {
   "cell_type": "code",
   "execution_count": 95,
   "id": "13e20149",
   "metadata": {},
   "outputs": [],
   "source": [
    "# this are some specifications and assumptions\n",
    "Vmaxb = 30.0*(5.0/18.0)\n",
    "M = 90.0\n",
    "u = 0.0*(5.0/18.0) \n",
    "v = 10.0*(5.0/18.0) \n",
    "t1 = 5.0\n",
    "DR = 0.75\n",
    "Rolling_resistence = 20.0 #assumed for stright road at v \n",
    "Cd = 0.75\n",
    "ρA = 1.25\n",
    "A = 1.0\n",
    "Ff = 2.0 #other frictions "
   ]
  },
  {
   "cell_type": "code",
   "execution_count": 96,
   "id": "b0c2d4f1",
   "metadata": {},
   "outputs": [
    {
     "name": "stdout",
     "output_type": "stream",
     "text": [
      "mass of the flywheel is: 6.6267970036659705 kg\n",
      "Moment of inertia of the flywheel is: 0.051771851591140394 kg.m^2\n"
     ]
    }
   ],
   "source": [
    "m = ρf*math.pi*((d/2.0)**2)*t\n",
    "I = (1/2)*m*((d/2.0)**2)\n",
    "print(\"mass of the flywheel is: \" + str(m) + \" kg\")\n",
    "print(\"Moment of inertia of the flywheel is: \" + str(I) + \" kg.m^2\")"
   ]
  },
  {
   "cell_type": "code",
   "execution_count": 97,
   "id": "cefb2812",
   "metadata": {},
   "outputs": [
    {
     "name": "stdout",
     "output_type": "stream",
     "text": [
      "Net Force to bring the system from u to v is: 70.11535018722184 N\n",
      "Torque requierd at the center of the wheel for this force is: 26.293256320208187 Nm\n"
     ]
    }
   ],
   "source": [
    "RR = DR/2.0\n",
    "a = (v-u)/t1 \n",
    "W = (m+M) #total mass of the system\n",
    "# when system reaches v\n",
    "E = (1/2)*W*v*v\n",
    "Fa = W*a\n",
    "FR = Rolling_resistence/v\n",
    "FA = Cd*ρA*A*(v**2)\n",
    "F = Fa+FA+FR+Ff\n",
    "Tw = F*RR\n",
    "print(\"Net Force to bring the system from u to v is: \" + str(F) + \" N\")\n",
    "print(\"Torque requierd at the center of the wheel for this force is: \" + str(Tw) + \" Nm\")"
   ]
  },
  {
   "cell_type": "code",
   "execution_count": 99,
   "id": "92448b1d",
   "metadata": {},
   "outputs": [
    {
     "name": "stdout",
     "output_type": "stream",
     "text": [
      "Energy realesed by the flywheel is: 486.9121540779294 Nm\n",
      "max Sprocket ratio allowed is: 6.54609391504857\n"
     ]
    }
   ],
   "source": [
    "Efl = F*(v**2 - u**2)/(2*a)\n",
    "print(\"Energy realesed by the flywheel is: \" + str(Efl) + \" Nm\")\n",
    "# since Efl = (1/2)*I*((Vmaxb^2)-(v^2))*(s^2/RR^2) so,\n",
    "s = math.sqrt(2*Efl*(RR**2)/(I*(Vmaxb**2-v**2)))\n",
    "print(\"max Sprocket ratio allowed is: \" + str(s))"
   ]
  },
  {
   "cell_type": "markdown",
   "id": "0fdcc351",
   "metadata": {},
   "source": [
    "## Clutch"
   ]
  },
  {
   "cell_type": "raw",
   "id": "82ad1918",
   "metadata": {},
   "source": [
    "Consider an elementary ring of radius r and thickness dr on the friction surface of the clutch.\n",
    "\n",
    "The area of the friction surface or contact surface:   \n",
    "    = 2 × π × r × dr\n",
    "\n",
    "Normal or axial force on the ring: \n",
    "    = dw  \n",
    "    = pressure × area  \n",
    "    = P × 2πr × dr\n",
    "\n",
    "The frictional force acting on the ring acting tangentially at the radius r is: \n",
    "    = Fr  \n",
    "    = μ × dw  \n",
    "    = μ × P × 2πr × dr\n",
    "\n",
    "Frictional torque actin on the ring: \n",
    "    = Tr \n",
    "    = F r ×r \n",
    "    = μ × P × 2πr × dr × r  \n",
    "    = μ × P × 2πr^2 × dr\n",
    "\n",
    "\n",
    "We shall now consider two cases\n",
    "1. When there is uniform pressure\n",
    "2. When there is uniform wear"
   ]
  },
  {
   "cell_type": "raw",
   "id": "bfaa13da",
   "metadata": {},
   "source": [
    "Case 1). Considering uniform pressure:\n",
    "\n",
    "When the friction force is distributed uniformly over the entire area of friction surface, the intensity of pressure will be:\n",
    "    P = W / π[r1^2 − r2^2 ]\n",
    "Here, W= axial force with which the clutch and the flywheel are held together\n",
    "\n",
    "Integrating the equation with the limits r2 to r1 for the total frictional torque\n",
    "= > Total frictional torque acting on clutch:\n",
    "    = T\n",
    "    = ∫2πμPr^2dr\n",
    "    = 2πμP[r^3/3]\n",
    "    = (2/3)*μ*W * ((r1^3-r2^3) / (r1^2-r2^2))"
   ]
  },
  {
   "cell_type": "raw",
   "id": "d31cbd07",
   "metadata": {},
   "source": [
    "Case 2). Considering uniform axial wear:\n",
    "\n",
    "In machine parts, which are subjected to wear due to sliding friction, the normal wear is proportional\n",
    "to work done by friction. The work done by the frictional force is again proportional to product of\n",
    "sliding velocity (V) and normal pressure (P).\n",
    "\n",
    "Therefore, Normal Wear ∝ work of friction ∝ P. V\n",
    "P.V = Const.\n",
    "P = Const. ⁄ V\n",
    "\n",
    "While new a friction surface exerts uniform pressure over the entire contact area. Gradually the\n",
    "pressure will vary at different locations due to wear. Wear will be more where the velocity is high.\n",
    "This wearing process will continue until the P.V becomes constant over the entire surface. Then the\n",
    "wear is minimum.\n",
    "\n",
    "Let p be the nominal intensity of pressure at a distance r from the axis of the clutch. Since the\n",
    "intensity of pressure varies inversely with the direction, therefore\n",
    "P.r = C\n",
    "P = C ⁄ r\n",
    "\n",
    "And the normal force on the ring\n",
    "    dW  = P*2πr*dr\n",
    "        = (C/r)*2π. r*dr\n",
    "        = 2π*C*dr\n",
    "\n",
    "Total force acting on the friction surface\n",
    "    W = ∫2π*C*dr\n",
    "      = 2π*C*(r1 − r2)\n",
    "    C = W/2π*(r1 −r2)\n",
    "\n",
    "We know the friction torque acting on the ring\n",
    "    Tr = 2πμPr^2dr\n",
    "       = 2πμ*(C/r)*r^2dr\n",
    "       = 2πμCrdr\n",
    "       \n",
    "Total friction working on the friction surface\n",
    "    T = ∫2π*μ*C*r*dr\n",
    "      = 2π*μ*C[r^2/2]\n",
    "      = μ*W*(r1+r2/2)\n",
    "      "
   ]
  },
  {
   "cell_type": "raw",
   "id": "275ac3bf",
   "metadata": {},
   "source": [
    "the Maximum gear ratio for the Al flywheel = s\n",
    "Torque transmitted by the clutch:\n",
    "    T = Tw/g"
   ]
  },
  {
   "cell_type": "markdown",
   "id": "b2824cb0",
   "metadata": {},
   "source": [
    "## Calculation of the Chain Length:"
   ]
  },
  {
   "cell_type": "raw",
   "id": "4b630b4b",
   "metadata": {},
   "source": [
    "The length of the chain can be found out by multiplying the number of units with the pitch of the\n",
    "chain.\n",
    "    L = K×p\n",
    "\n",
    "Number of chain links can be found from the following formula as mentioned in the book of\n",
    "“Machine Design” by Khurmi & Gupta\n",
    "    K = (T1+T2/2) + (2*x/p) + (T2-T1/2*pi)^2 * p/x\n",
    "\n",
    "The value of K obtained from the above equation can be approximated to the next/ nearest even\n",
    "number.\n",
    "\n",
    "The looseness can be compensated by using an idling gear."
   ]
  },
  {
   "cell_type": "code",
   "execution_count": 100,
   "id": "c6a85164",
   "metadata": {},
   "outputs": [],
   "source": [
    "# this are some specifications and assumptions\n",
    "T1 = 15\n",
    "T2 = 45\n",
    "p = 0.0127 #m\n",
    "x = 1.0 #assumed "
   ]
  },
  {
   "cell_type": "code",
   "execution_count": 101,
   "id": "ef8f9d86",
   "metadata": {},
   "outputs": [
    {
     "name": "stdout",
     "output_type": "stream",
     "text": [
      "Number of chain links in the chain drive is: 188\n",
      "Length of the chain used is: 2.3876 m\n"
     ]
    }
   ],
   "source": [
    "k = ((T1+T2)/2) + (2*x/p) + (p/x)*(((T2-T1)/(2*math.pi))**2)\n",
    "k = math.ceil(k)\n",
    "if k%2!=0:\n",
    "    k += 1\n",
    "L = k*p\n",
    "print(\"Number of chain links in the chain drive is: \" + str(k))\n",
    "print(\"Length of the chain used is: \" + str(L) + \" m\")"
   ]
  },
  {
   "cell_type": "code",
   "execution_count": 102,
   "id": "36e87dba",
   "metadata": {},
   "outputs": [
    {
     "name": "stdout",
     "output_type": "stream",
     "text": [
      "Length of the chain required for the minimum gear ratio is: 2.2352 m\n",
      "Length to be compensated is: 0.1524000000000001 m\n",
      "length of the shifter arm is: 0.5727353315450342 m\n",
      "No. of arms to be compensated is: 45\n"
     ]
    }
   ],
   "source": [
    "# Now to calculate the gear shifter/ idler gear arm length:\n",
    "T1 = 15\n",
    "T2 = 20\n",
    "k = ((T1+T2)/2) + (2*x/p) + (p/x)*(((T2-T1)/(2*math.pi))**2)\n",
    "k = math.ceil(k)\n",
    "if k%2!=0:\n",
    "    k += 1\n",
    "Li = k*p\n",
    "print(\"Length of the chain required for the minimum gear ratio is: \" + str(Li) + \" m\")\n",
    "Lc = L-Li\n",
    "print(\"Length to be compensated is: \" + str(Lc) + \" m\")\n",
    "Y = math.sqrt((x+Lc)**2 - x**2)\n",
    "print(\"length of the shifter arm is: \" + str(Y) +\" m\")\n",
    "N = int(Y/p)\n",
    "print(\"No. of arms to be compensated is: \" + str(N))"
   ]
  },
  {
   "cell_type": "markdown",
   "id": "db6f7fb8",
   "metadata": {},
   "source": [
    "## Design of the clutch drive system:"
   ]
  },
  {
   "cell_type": "code",
   "execution_count": 103,
   "id": "c7d0e75a",
   "metadata": {},
   "outputs": [],
   "source": [
    "g = 3 # from above\n",
    "r1 = 0.1\n",
    "r2 = 0.02\n",
    "rmean = (r1+r2)/2\n",
    "T = Tw/g\n",
    "μ = 0.4 # assumed"
   ]
  },
  {
   "cell_type": "raw",
   "id": "b7d0bdbc",
   "metadata": {},
   "source": [
    "First calculating the threshold spring force required to actuate the clutch so that whenever the\n",
    "clutch is applied at whatever sprocket ratio to discharge the energy from the flywheel, the energy\n",
    "will be discharged and the bicycle will move.\n",
    "\n",
    "Threshold torque means the minimum amount of torque that the front sprocket must provide in\n",
    "order to bring the system into motion, i.e. the bicycle + rider system will come into motion.\n",
    "\n",
    "For this the force required at the rear wheel = FT\n",
    "    FT = FR + Ff\n",
    "    Fa is neglected here .Even FA won’t come into picture if there is no relative flow of wind.\n",
    "    \n"
   ]
  },
  {
   "cell_type": "code",
   "execution_count": 104,
   "id": "0e4251ce",
   "metadata": {},
   "outputs": [
    {
     "name": "stdout",
     "output_type": "stream",
     "text": [
      "Threshold force to move the bicycle is: 9.2 N\n"
     ]
    }
   ],
   "source": [
    "FT = FR  + Ff\n",
    "print(\"Threshold force to move the bicycle is: \" + str(FT) + \" N\")"
   ]
  },
  {
   "cell_type": "code",
   "execution_count": 105,
   "id": "67252ac2",
   "metadata": {},
   "outputs": [
    {
     "name": "stdout",
     "output_type": "stream",
     "text": [
      "FTC is: 117.18749999999999 N\n"
     ]
    }
   ],
   "source": [
    "# Now considering F T = 10N so that it will just accelerate the system with minimal acceleration.\n",
    "FT = math.ceil(FT)\n",
    "# Threshold Torque required at the rear wheel center:\n",
    "TTw = FT*RR\n",
    "smin = 20/15 # minimum sproket ratio\n",
    "TTF = TTw/smin   # max value of TTf T1 = 15, T2 = 20 case\n",
    "FTC = TTF/(μ*rmean)\n",
    "print(\"FTC is: \" + str(FTC) + \" N\")\n",
    "# The mechanical advantage at the clutch drive = n\n",
    "# n = (rotational travel by the outer5 periphery point in the clutchdrive that is connected to the spring)/\n",
    "# (linear travel of the clutch drive)"
   ]
  },
  {
   "cell_type": "raw",
   "id": "08587823",
   "metadata": {},
   "source": [
    "The clutch drive is always in the actuated state with the help of a sprig that always keeps it\n",
    "rotated by nearly 150°.The rest 30° is for wear and tear compensation.\n",
    "\n",
    "Linear travel of the clutch drive = 3mm\n",
    "Rotational travel of the outer periphery point = (150/180)× 2π × 10 = 52.36mm\n",
    "The mechanical advantage = n = 52.36/3 = 17.454 ≅ 17.5"
   ]
  },
  {
   "cell_type": "code",
   "execution_count": 106,
   "id": "c84d3905",
   "metadata": {
    "scrolled": true
   },
   "outputs": [
    {
     "name": "stdout",
     "output_type": "stream",
     "text": [
      "The spring force should be greater than: 6.69642857142857 N\n",
      "To disengage the clutch driver has to apply a force equal to or more than: 20.86766374619697 N\n"
     ]
    }
   ],
   "source": [
    "#With requirement of higher acceleration, required spring force will also increase.\n",
    "#For maximum acceleration:\n",
    "FTS = FTC/17.5\n",
    "print(\"The spring force should be greater than: \" + str(FTS) + \" N\")\n",
    "x1 = (T/(μ*rmean))/17.5\n",
    "print(\"To disengage the clutch driver has to apply a force equal to or more than: \" + str(x1) + \" N\")"
   ]
  },
  {
   "cell_type": "raw",
   "id": "f263518d",
   "metadata": {},
   "source": [
    "Mechanical advantage at the left brake handle = x1/x2\n",
    "Comfortable force that the rider can apply = x2 = 0.5Kg = 4.905N"
   ]
  },
  {
   "cell_type": "code",
   "execution_count": 107,
   "id": "bf6f6088",
   "metadata": {},
   "outputs": [
    {
     "name": "stdout",
     "output_type": "stream",
     "text": [
      "The left handle is to be designed with a mechanical advantage of: 4.254365697491737\n"
     ]
    }
   ],
   "source": [
    "x2 = 4.905\n",
    "n = x1/x2\n",
    "print(\"The left handle is to be designed with a mechanical advantage of: \" + str(n))"
   ]
  }
 ],
 "metadata": {
  "kernelspec": {
   "display_name": "Python 3 (ipykernel)",
   "language": "python",
   "name": "python3"
  },
  "language_info": {
   "codemirror_mode": {
    "name": "ipython",
    "version": 3
   },
   "file_extension": ".py",
   "mimetype": "text/x-python",
   "name": "python",
   "nbconvert_exporter": "python",
   "pygments_lexer": "ipython3",
   "version": "3.9.7"
  }
 },
 "nbformat": 4,
 "nbformat_minor": 5
}
